{
  "nbformat": 4,
  "nbformat_minor": 0,
  "metadata": {
    "colab": {
      "provenance": [],
      "authorship_tag": "ABX9TyMPRpvn8A5HzG+iR9au254r",
      "include_colab_link": true
    },
    "kernelspec": {
      "name": "python3",
      "display_name": "Python 3"
    },
    "language_info": {
      "name": "python"
    }
  },
  "cells": [
    {
      "cell_type": "markdown",
      "metadata": {
        "id": "view-in-github",
        "colab_type": "text"
      },
      "source": [
        "<a href=\"https://colab.research.google.com/github/AdrianSKazi/Math-with-Python/blob/main/Math_with_Python.ipynb\" target=\"_parent\"><img src=\"https://colab.research.google.com/assets/colab-badge.svg\" alt=\"Open In Colab\"/></a>"
      ]
    },
    {
      "cell_type": "markdown",
      "source": [
        "# Sympy"
      ],
      "metadata": {
        "id": "l1z6ezY4ByKV"
      }
    },
    {
      "cell_type": "code",
      "source": [
        "import sympy as sym\n",
        "import numpy as np\n",
        "\n",
        "sym.init_printing() # Adds nice formatting\n",
        "from IPython.display import display"
      ],
      "metadata": {
        "id": "nbFHNPpKB0YL"
      },
      "execution_count": null,
      "outputs": []
    },
    {
      "cell_type": "markdown",
      "source": [
        "## Symbolic notation"
      ],
      "metadata": {
        "id": "R1_JJUX5Drf7"
      }
    },
    {
      "cell_type": "markdown",
      "source": [
        "Stores symbol as variable not as actual value"
      ],
      "metadata": {
        "id": "0jB7ZLNvDtpD"
      }
    },
    {
      "cell_type": "code",
      "source": [
        "x, y = sym.symbols('x, y')\n",
        "x, y"
      ],
      "metadata": {
        "colab": {
          "base_uri": "https://localhost:8080/",
          "height": 38
        },
        "id": "AoZzzWq8DmbA",
        "outputId": "922f7ef5-ade8-4421-9072-ee5a66c2d8a8"
      },
      "execution_count": null,
      "outputs": [
        {
          "output_type": "execute_result",
          "data": {
            "text/plain": [
              "(x, y)"
            ],
            "text/latex": "$\\displaystyle \\left( x, \\  y\\right)$"
          },
          "metadata": {},
          "execution_count": 11
        }
      ]
    },
    {
      "cell_type": "code",
      "source": [
        "x + 2 + y"
      ],
      "metadata": {
        "colab": {
          "base_uri": "https://localhost:8080/",
          "height": 38
        },
        "id": "1z5QGFlBD6qu",
        "outputId": "36aa921f-f1a1-49ab-b415-b72735fb5353"
      },
      "execution_count": null,
      "outputs": [
        {
          "output_type": "execute_result",
          "data": {
            "text/plain": [
              "x + y + 2"
            ],
            "text/latex": "$\\displaystyle x + y + 2$"
          },
          "metadata": {},
          "execution_count": 12
        }
      ]
    },
    {
      "cell_type": "markdown",
      "source": [
        "## Display"
      ],
      "metadata": {
        "id": "Gvl9pNM5EZVg"
      }
    },
    {
      "cell_type": "code",
      "source": [
        "print(x**y)"
      ],
      "metadata": {
        "colab": {
          "base_uri": "https://localhost:8080/"
        },
        "id": "Ttv9YqRqETJo",
        "outputId": "3390216c-e464-4224-80a7-248206e56e1a"
      },
      "execution_count": null,
      "outputs": [
        {
          "output_type": "stream",
          "name": "stdout",
          "text": [
            "x**y\n"
          ]
        }
      ]
    },
    {
      "cell_type": "code",
      "source": [
        "display(x**y)"
      ],
      "metadata": {
        "colab": {
          "base_uri": "https://localhost:8080/",
          "height": 38
        },
        "id": "ilX20YMwEWEg",
        "outputId": "4403ed94-803f-4805-f667-b98bc4ce370c"
      },
      "execution_count": null,
      "outputs": [
        {
          "output_type": "display_data",
          "data": {
            "text/plain": [
              " y\n",
              "x "
            ],
            "text/latex": "$\\displaystyle x^{y}$"
          },
          "metadata": {}
        }
      ]
    },
    {
      "cell_type": "code",
      "source": [
        "display(x/y)"
      ],
      "metadata": {
        "colab": {
          "base_uri": "https://localhost:8080/",
          "height": 51
        },
        "id": "Of40OQ-kEbWF",
        "outputId": "066c6f50-9c14-4b09-9b21-830fdf4b8fcb"
      },
      "execution_count": null,
      "outputs": [
        {
          "output_type": "display_data",
          "data": {
            "text/plain": [
              "x\n",
              "─\n",
              "y"
            ],
            "text/latex": "$\\displaystyle \\frac{x}{y}$"
          },
          "metadata": {}
        }
      ]
    },
    {
      "cell_type": "markdown",
      "source": [
        "## Symbolic vs Numerical/Analytical notation"
      ],
      "metadata": {
        "id": "ztqNAcbMFED2"
      }
    },
    {
      "cell_type": "markdown",
      "source": [
        "Numeric notation (estimate of sqrt(2))"
      ],
      "metadata": {
        "id": "4CNoRLEJFObQ"
      }
    },
    {
      "cell_type": "code",
      "source": [
        "display(np.sqrt(2))"
      ],
      "metadata": {
        "colab": {
          "base_uri": "https://localhost:8080/",
          "height": 37
        },
        "id": "KXDpDC7AEfHe",
        "outputId": "52f850b5-b556-4df6-92bb-3577c6c0a97b"
      },
      "execution_count": null,
      "outputs": [
        {
          "output_type": "display_data",
          "data": {
            "text/plain": [
              "1.4142135623730951"
            ],
            "text/latex": "$\\displaystyle 1.4142135623731$"
          },
          "metadata": {}
        }
      ]
    },
    {
      "cell_type": "markdown",
      "source": [
        "Symbolic notation"
      ],
      "metadata": {
        "id": "0vXCR6orFWey"
      }
    },
    {
      "cell_type": "code",
      "source": [
        "display(sym.sqrt(2))"
      ],
      "metadata": {
        "colab": {
          "base_uri": "https://localhost:8080/",
          "height": 39
        },
        "id": "6I86LKy4FTzA",
        "outputId": "cbf52c42-92ab-4ca5-b282-138d11de8ffc"
      },
      "execution_count": null,
      "outputs": [
        {
          "output_type": "display_data",
          "data": {
            "text/plain": [
              "√2"
            ],
            "text/latex": "$\\displaystyle \\sqrt{2}$"
          },
          "metadata": {}
        }
      ]
    },
    {
      "cell_type": "code",
      "source": [
        "display(y*x**2)"
      ],
      "metadata": {
        "colab": {
          "base_uri": "https://localhost:8080/",
          "height": 38
        },
        "id": "AHbUdml4FbCx",
        "outputId": "313d7dc6-1dc8-48ba-a75b-c865f77c3fd6"
      },
      "execution_count": null,
      "outputs": [
        {
          "output_type": "display_data",
          "data": {
            "text/plain": [
              " 2  \n",
              "x ⋅y"
            ],
            "text/latex": "$\\displaystyle x^{2} y$"
          },
          "metadata": {}
        }
      ]
    },
    {
      "cell_type": "code",
      "source": [
        "display(sym.sqrt(4)*x)"
      ],
      "metadata": {
        "colab": {
          "base_uri": "https://localhost:8080/",
          "height": 38
        },
        "id": "2SbjR4tTG6mE",
        "outputId": "a411e516-8302-4576-97ac-8f35b29467b1"
      },
      "execution_count": null,
      "outputs": [
        {
          "output_type": "display_data",
          "data": {
            "text/plain": [
              "2⋅x"
            ],
            "text/latex": "$\\displaystyle 2 x$"
          },
          "metadata": {}
        }
      ]
    },
    {
      "cell_type": "code",
      "source": [
        "display(sym.sqrt(x)*sym.sqrt(x ))"
      ],
      "metadata": {
        "colab": {
          "base_uri": "https://localhost:8080/",
          "height": 38
        },
        "id": "YTOhsW1PG_lx",
        "outputId": "4eeabc6a-e208-4039-a0de-4e54fac49f5d"
      },
      "execution_count": null,
      "outputs": [
        {
          "output_type": "display_data",
          "data": {
            "text/plain": [
              "x"
            ],
            "text/latex": "$\\displaystyle x$"
          },
          "metadata": {}
        }
      ]
    },
    {
      "cell_type": "markdown",
      "source": [
        "# Algebra I"
      ],
      "metadata": {
        "id": "MB60pCDzBO4O"
      }
    },
    {
      "cell_type": "markdown",
      "source": [
        "## Solving for x"
      ],
      "metadata": {
        "id": "a9EWlwlRBUE4"
      }
    }
  ]
}